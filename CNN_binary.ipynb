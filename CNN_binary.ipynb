{
 "cells": [
  {
   "cell_type": "code",
   "execution_count": 71,
   "id": "ec4de7d7",
   "metadata": {},
   "outputs": [],
   "source": [
    "import pandas as pd\n",
    "import tensorflow as tf\n",
    "from tensorflow import keras\n",
    "from tensorflow.keras import layers, models\n",
    "from tensorflow.keras.layers import Dropout,Dense\n",
    "from tensorflow.keras import Sequential\n",
    "import numpy as np\n",
    "from tensorflow.keras.preprocessing.image import ImageDataGenerator\n",
    "from sklearn.preprocessing import MinMaxScaler\n",
    "from keras.models import Model\n",
    "from sklearn.decomposition import PCA\n",
    "from tensorflow.keras.optimizers import Adam\n",
    "from tensorflow.keras.models import load_model\n",
    "from tensorflow.keras.regularizers import l2\n",
    "from sklearn.metrics import classification_report\n",
    "from sklearn.metrics import confusion_matrix\n",
    "from sklearn.model_selection import train_test_split\n",
    "from sklearn import svm\n",
    "from sklearn.svm import SVC\n",
    "from tensorflow.keras.optimizers.legacy import Adam\n",
    "import matplotlib.pyplot as plt\n",
    "import seaborn as sns\n",
    "from sklearn import svm"
   ]
  },
  {
   "cell_type": "code",
   "execution_count": 35,
   "id": "8d4727d4",
   "metadata": {},
   "outputs": [],
   "source": [
    "train_data_path=\"E:/preprocessed images/Adaptive histogram dataset/adap hist(2)/preprocessed train data\"\n",
    "val_data_path=\"E:/preprocessed images/Adaptive histogram dataset/adap hist(2)/preprocessed val data\"\n",
    "test_data_path=\"E:/preprocessed images/Adaptive histogram dataset/adap hist(2)/preprocessed test data\""
   ]
  },
  {
   "cell_type": "code",
   "execution_count": 36,
   "id": "efa72ea1",
   "metadata": {},
   "outputs": [],
   "source": [
    "train_gen=ImageDataGenerator(rescale=1./255)\n",
    "val_gen=ImageDataGenerator(rescale=1./255)\n",
    "test_gen=ImageDataGenerator(rescale=1./255)"
   ]
  },
  {
   "cell_type": "code",
   "execution_count": 37,
   "id": "1ab2f11b",
   "metadata": {},
   "outputs": [
    {
     "name": "stdout",
     "output_type": "stream",
     "text": [
      "Found 5778 images belonging to 2 classes.\n",
      "Found 826 images belonging to 2 classes.\n",
      "Found 1656 images belonging to 2 classes.\n"
     ]
    }
   ],
   "source": [
    "train_data=train_gen.flow_from_directory(\n",
    "                                \n",
    "                                        train_data_path,\n",
    "                                        class_mode=\"categorical\",\n",
    "                                        batch_size=32,\n",
    "                                        color_mode=\"grayscale\",\n",
    "                                        target_size=(112,112),\n",
    "                                        shuffle=True,\n",
    "                                                                        \n",
    "                                         \n",
    "                                        )\n",
    "\n",
    "val_data=val_gen.flow_from_directory(\n",
    "                                        val_data_path,\n",
    "                                        class_mode=\"categorical\",\n",
    "                                        color_mode=\"grayscale\",\n",
    "                                        batch_size=32,\n",
    "                                        target_size=(112,112),\n",
    "                                        shuffle=False\n",
    "                                        )\n",
    "\n",
    "test_data=test_gen.flow_from_directory(\n",
    "                                        test_data_path,\n",
    "                                        class_mode=\"categorical\",\n",
    "                                        batch_size=32,\n",
    "                                        color_mode=\"grayscale\",\n",
    "                                        target_size=(112,112),\n",
    "                                        shuffle=False\n",
    "                                        )"
   ]
  },
  {
   "cell_type": "code",
   "execution_count": 6,
   "id": "93ae6f18",
   "metadata": {},
   "outputs": [],
   "source": [
    "cnn_2=load_model(\"E:/saved models/finalize models for project/Model_5_classes/CNN_Model_5_classes.h5\")"
   ]
  },
  {
   "cell_type": "code",
   "execution_count": 143,
   "id": "075a24f3",
   "metadata": {},
   "outputs": [
    {
     "name": "stdout",
     "output_type": "stream",
     "text": [
      "Model: \"sequential\"\n",
      "_________________________________________________________________\n",
      " Layer (type)                Output Shape              Param #   \n",
      "=================================================================\n",
      " conv2d (Conv2D)             (None, 112, 112, 32)      320       \n",
      "                                                                 \n",
      " conv2d_1 (Conv2D)           (None, 112, 112, 32)      9248      \n",
      "                                                                 \n",
      " conv2d_2 (Conv2D)           (None, 112, 112, 32)      9248      \n",
      "                                                                 \n",
      " max_pooling2d (MaxPooling2  (None, 56, 56, 32)        0         \n",
      " D)                                                              \n",
      "                                                                 \n",
      " dropout (Dropout)           (None, 56, 56, 32)        0         \n",
      "                                                                 \n",
      " conv2d_3 (Conv2D)           (None, 56, 56, 64)        18496     \n",
      "                                                                 \n",
      " average_pooling2d (Average  (None, 28, 28, 64)        0         \n",
      " Pooling2D)                                                      \n",
      "                                                                 \n",
      " dropout_1 (Dropout)         (None, 28, 28, 64)        0         \n",
      "                                                                 \n",
      " conv2d_4 (Conv2D)           (None, 28, 28, 128)       73856     \n",
      "                                                                 \n",
      " average_pooling2d_1 (Avera  (None, 14, 14, 128)       0         \n",
      " gePooling2D)                                                    \n",
      "                                                                 \n",
      " dropout_2 (Dropout)         (None, 14, 14, 128)       0         \n",
      "                                                                 \n",
      " flatten (Flatten)           (None, 25088)             0         \n",
      "                                                                 \n",
      " dense (Dense)               (None, 200)               5017800   \n",
      "                                                                 \n",
      " dropout_3 (Dropout)         (None, 200)               0         \n",
      "                                                                 \n",
      " dense_1 (Dense)             (None, 5)                 1005      \n",
      "                                                                 \n",
      "=================================================================\n",
      "Total params: 5129973 (19.57 MB)\n",
      "Trainable params: 5129973 (19.57 MB)\n",
      "Non-trainable params: 0 (0.00 Byte)\n",
      "_________________________________________________________________\n"
     ]
    }
   ],
   "source": [
    "cnn.summary()"
   ]
  },
  {
   "cell_type": "code",
   "execution_count": 144,
   "id": "72d5b1d2",
   "metadata": {},
   "outputs": [],
   "source": [
    "for layer in cnn_2.layers:\n",
    "    layer.trainable = False"
   ]
  },
  {
   "cell_type": "code",
   "execution_count": 145,
   "id": "23ec84aa",
   "metadata": {},
   "outputs": [],
   "source": [
    "pretrained_output = cnn_2.layers[-2].output"
   ]
  },
  {
   "cell_type": "code",
   "execution_count": 146,
   "id": "ca7dfa59",
   "metadata": {},
   "outputs": [],
   "source": [
    "x = Dense(512, activation='relu')(pretrained_output)\n",
    "x = Dense(256, activation='relu')(x)\n",
    "\n",
    "predictions = Dense(2, activation='softmax')(x)"
   ]
  },
  {
   "cell_type": "code",
   "execution_count": 147,
   "id": "e8d41407",
   "metadata": {},
   "outputs": [],
   "source": [
    "cnn_2=Model(inputs=cnn_2.input, outputs=predictions)"
   ]
  },
  {
   "cell_type": "code",
   "execution_count": 148,
   "id": "6ec0b42c",
   "metadata": {},
   "outputs": [
    {
     "name": "stdout",
     "output_type": "stream",
     "text": [
      "Model: \"model_10\"\n",
      "_________________________________________________________________\n",
      " Layer (type)                Output Shape              Param #   \n",
      "=================================================================\n",
      " input_1 (InputLayer)        [(None, 112, 112, 1)]     0         \n",
      "                                                                 \n",
      " conv2d (Conv2D)             (None, 112, 112, 32)      320       \n",
      "                                                                 \n",
      " conv2d_1 (Conv2D)           (None, 112, 112, 32)      9248      \n",
      "                                                                 \n",
      " conv2d_2 (Conv2D)           (None, 112, 112, 32)      9248      \n",
      "                                                                 \n",
      " max_pooling2d (MaxPooling2  (None, 56, 56, 32)        0         \n",
      " D)                                                              \n",
      "                                                                 \n",
      " dropout (Dropout)           (None, 56, 56, 32)        0         \n",
      "                                                                 \n",
      " conv2d_3 (Conv2D)           (None, 56, 56, 64)        18496     \n",
      "                                                                 \n",
      " average_pooling2d (Average  (None, 28, 28, 64)        0         \n",
      " Pooling2D)                                                      \n",
      "                                                                 \n",
      " dropout_1 (Dropout)         (None, 28, 28, 64)        0         \n",
      "                                                                 \n",
      " conv2d_4 (Conv2D)           (None, 28, 28, 128)       73856     \n",
      "                                                                 \n",
      " average_pooling2d_1 (Avera  (None, 14, 14, 128)       0         \n",
      " gePooling2D)                                                    \n",
      "                                                                 \n",
      " dropout_2 (Dropout)         (None, 14, 14, 128)       0         \n",
      "                                                                 \n",
      " flatten (Flatten)           (None, 25088)             0         \n",
      "                                                                 \n",
      " dense (Dense)               (None, 200)               5017800   \n",
      "                                                                 \n",
      " dropout_3 (Dropout)         (None, 200)               0         \n",
      "                                                                 \n",
      " dense_15 (Dense)            (None, 512)               102912    \n",
      "                                                                 \n",
      " dense_16 (Dense)            (None, 256)               131328    \n",
      "                                                                 \n",
      " dense_17 (Dense)            (None, 2)                 514       \n",
      "                                                                 \n",
      "=================================================================\n",
      "Total params: 5363722 (20.46 MB)\n",
      "Trainable params: 234754 (917.01 KB)\n",
      "Non-trainable params: 5128968 (19.57 MB)\n",
      "_________________________________________________________________\n"
     ]
    }
   ],
   "source": [
    "cnn_2.summary()"
   ]
  },
  {
   "cell_type": "code",
   "execution_count": 153,
   "id": "cc21c9ce",
   "metadata": {},
   "outputs": [],
   "source": [
    "cnn_2.compile(optimizer=Adam(learning_rate=0.001, beta_1=0.9, beta_2=0.999), loss='binary_crossentropy', metrics=['accuracy'])"
   ]
  },
  {
   "cell_type": "code",
   "execution_count": 154,
   "id": "79d15aff",
   "metadata": {},
   "outputs": [
    {
     "name": "stdout",
     "output_type": "stream",
     "text": [
      "Epoch 1/20\n",
      "181/181 [==============================] - 237s 1s/step - loss: 0.4804 - accuracy: 0.7722 - val_loss: 0.4416 - val_accuracy: 0.7954\n",
      "Epoch 2/20\n",
      "181/181 [==============================] - 220s 1s/step - loss: 0.4423 - accuracy: 0.7927 - val_loss: 0.4479 - val_accuracy: 0.7833\n",
      "Epoch 3/20\n",
      "181/181 [==============================] - 220s 1s/step - loss: 0.4367 - accuracy: 0.7977 - val_loss: 0.4380 - val_accuracy: 0.8027\n",
      "Epoch 4/20\n",
      "181/181 [==============================] - 220s 1s/step - loss: 0.4285 - accuracy: 0.7991 - val_loss: 0.4470 - val_accuracy: 0.7954\n",
      "Epoch 5/20\n",
      "181/181 [==============================] - 223s 1s/step - loss: 0.4312 - accuracy: 0.8025 - val_loss: 0.4413 - val_accuracy: 0.8027\n",
      "Epoch 6/20\n",
      "181/181 [==============================] - 216s 1s/step - loss: 0.4278 - accuracy: 0.8046 - val_loss: 0.4343 - val_accuracy: 0.7990\n",
      "Epoch 7/20\n",
      "181/181 [==============================] - 222s 1s/step - loss: 0.4251 - accuracy: 0.8044 - val_loss: 0.4385 - val_accuracy: 0.7978\n",
      "Epoch 8/20\n",
      "181/181 [==============================] - 223s 1s/step - loss: 0.4283 - accuracy: 0.8027 - val_loss: 0.4348 - val_accuracy: 0.7978\n",
      "Epoch 9/20\n",
      "181/181 [==============================] - 222s 1s/step - loss: 0.4250 - accuracy: 0.8022 - val_loss: 0.4503 - val_accuracy: 0.7712\n",
      "Epoch 10/20\n",
      "181/181 [==============================] - 219s 1s/step - loss: 0.4279 - accuracy: 0.8048 - val_loss: 0.4387 - val_accuracy: 0.7942\n",
      "Epoch 11/20\n",
      "181/181 [==============================] - 224s 1s/step - loss: 0.4202 - accuracy: 0.8088 - val_loss: 0.4413 - val_accuracy: 0.7918\n",
      "Epoch 12/20\n",
      "181/181 [==============================] - 223s 1s/step - loss: 0.4184 - accuracy: 0.8039 - val_loss: 0.4348 - val_accuracy: 0.8039\n",
      "Epoch 13/20\n",
      "181/181 [==============================] - 228s 1s/step - loss: 0.4174 - accuracy: 0.8082 - val_loss: 0.4346 - val_accuracy: 0.7930\n",
      "Epoch 14/20\n",
      "181/181 [==============================] - 227s 1s/step - loss: 0.4233 - accuracy: 0.8049 - val_loss: 0.4366 - val_accuracy: 0.8002\n",
      "Epoch 15/20\n",
      "181/181 [==============================] - 231s 1s/step - loss: 0.4190 - accuracy: 0.8069 - val_loss: 0.4366 - val_accuracy: 0.8002\n",
      "Epoch 16/20\n",
      "181/181 [==============================] - 230s 1s/step - loss: 0.4154 - accuracy: 0.8124 - val_loss: 0.4417 - val_accuracy: 0.7881\n",
      "Epoch 17/20\n",
      "181/181 [==============================] - 230s 1s/step - loss: 0.4176 - accuracy: 0.8096 - val_loss: 0.4431 - val_accuracy: 0.7906\n",
      "Epoch 18/20\n",
      "181/181 [==============================] - 230s 1s/step - loss: 0.4101 - accuracy: 0.8056 - val_loss: 0.4408 - val_accuracy: 0.7869\n",
      "Epoch 19/20\n",
      "181/181 [==============================] - 232s 1s/step - loss: 0.4268 - accuracy: 0.8004 - val_loss: 0.4451 - val_accuracy: 0.7881\n",
      "Epoch 20/20\n",
      "181/181 [==============================] - 232s 1s/step - loss: 0.4215 - accuracy: 0.8082 - val_loss: 0.4399 - val_accuracy: 0.8027\n"
     ]
    },
    {
     "data": {
      "text/plain": [
       "<keras.src.callbacks.History at 0x1c128f3ad90>"
      ]
     },
     "execution_count": 154,
     "metadata": {},
     "output_type": "execute_result"
    }
   ],
   "source": [
    "cnn_2.fit(train_data, epochs=20, batch_size=32, validation_data=val_data)"
   ]
  },
  {
   "cell_type": "code",
   "execution_count": 38,
   "id": "60b4cdf1",
   "metadata": {},
   "outputs": [],
   "source": [
    "cnn_2=load_model(\"E:/finalize models for project/CNN/Binary/CNN_binary_classes.h5\")"
   ]
  },
  {
   "cell_type": "code",
   "execution_count": 54,
   "id": "9f1aca21",
   "metadata": {},
   "outputs": [],
   "source": [
    "# Load your pre-trained CNN model\n",
    "CNN = cnn_2\n",
    "\n",
    "# Create a new model with the modified architecture\n",
    "feature_extractor = Model(inputs=CNN.input, outputs=CNN.layers[-2].output)"
   ]
  },
  {
   "cell_type": "code",
   "execution_count": 55,
   "id": "ce4ee1ed",
   "metadata": {},
   "outputs": [
    {
     "name": "stdout",
     "output_type": "stream",
     "text": [
      "52/52 [==============================] - 15s 295ms/step\n",
      "(None, 256)\n"
     ]
    }
   ],
   "source": [
    "# Extract deep features\n",
    "test_deep_features = feature_extractor.predict(test_data)\n",
    "print(feature_extractor.output_shape)"
   ]
  },
  {
   "cell_type": "code",
   "execution_count": 56,
   "id": "4e930110",
   "metadata": {},
   "outputs": [],
   "source": [
    "predicted_labels = test_deep_features.argmax"
   ]
  },
  {
   "cell_type": "code",
   "execution_count": 57,
   "id": "9fca7aa9",
   "metadata": {},
   "outputs": [],
   "source": [
    "scaler = MinMaxScaler()\n",
    "test_normalized_features = scaler.fit_transform(test_deep_features)"
   ]
  },
  {
   "cell_type": "code",
   "execution_count": 58,
   "id": "8546f9a7",
   "metadata": {},
   "outputs": [],
   "source": [
    "N_components = 0.99  \n",
    "\n",
    "\n",
    "pca = PCA(n_components=N_components)\n",
    "test_reduced_features = pca.fit_transform(test_normalized_features)"
   ]
  },
  {
   "cell_type": "code",
   "execution_count": 59,
   "id": "67b59379",
   "metadata": {},
   "outputs": [],
   "source": [
    "x=test_reduced_features\n",
    "y=test_data.classes"
   ]
  },
  {
   "cell_type": "code",
   "execution_count": 60,
   "id": "50f303eb",
   "metadata": {},
   "outputs": [],
   "source": [
    "x_train,x_test,y_train,y_test=train_test_split(x,y,test_size=0.2)"
   ]
  },
  {
   "cell_type": "code",
   "execution_count": 117,
   "id": "4b652ec2",
   "metadata": {},
   "outputs": [
    {
     "name": "stdout",
     "output_type": "stream",
     "text": [
      "\n",
      " CNN BINARYCLASS CLASSIFICATION\n",
      "\n",
      "              precision    recall  f1-score   support\n",
      "\n",
      "    Negative       0.76      0.91      0.83       185\n",
      "    Positive       0.85      0.63      0.72       147\n",
      "\n",
      "    accuracy                           0.79       332\n",
      "   macro avg       0.80      0.77      0.77       332\n",
      "weighted avg       0.80      0.79      0.78       332\n",
      "\n"
     ]
    }
   ],
   "source": [
    "# Create an SVM classifier\n",
    "svm_classifier = SVC(C=1000,gamma=0.009)\n",
    "\n",
    "\n",
    "svm_classifier.fit(x_train,y_train)\n",
    "\n",
    "\n",
    "y_pred = svm_classifier.predict(x_test)\n",
    "\n",
    "actual_class_labels = ['Negative','Positive']\n",
    "\n",
    "# Evaluate the performance of the SVM classifier\n",
    "report = classification_report(y_test, y_pred, target_names=actual_class_labels)\n",
    "\n",
    "custom_title = \"\\n CNN BINARYCLASS CLASSIFICATION\\n\\n\"\n",
    "report_with_title = custom_title + report\n",
    "\n",
    "print(report_with_title)"
   ]
  },
  {
   "cell_type": "code",
   "execution_count": 120,
   "id": "b6b633c2",
   "metadata": {},
   "outputs": [
    {
     "name": "stdout",
     "output_type": "stream",
     "text": [
      "52/52 [==============================] - 37s 707ms/step\n"
     ]
    },
    {
     "data": {
      "image/png": "[encoded data removed]",
      "text/plain": [
       "<Figure size 432x288 with 2 Axes>"
      ]
     },
     "metadata": {
      "needs_background": "light"
     },
     "output_type": "display_data"
    }
   ],
   "source": [
    "predictions = cnn_2.predict(test_data)\n",
    "predicted_labels = predictions.argmax(axis=1)\n",
    "\n",
    "true_labels = test_data.classes\n",
    "\n",
    "cm = confusion_matrix(true_labels, predicted_labels)\n",
    "classes = ['Negative', 'Positive']\n",
    "\n",
    "plt.figure()\n",
    "ax = plt.subplot()\n",
    "ax.set_title('Confusion Matrix Of CNN BinaryClass')\n",
    "\n",
    "# Create a heatmap of the confusion matrix\n",
    "sns.heatmap(cm, annot=True, fmt='d', xticklabels=classes, yticklabels=classes, cmap='Reds')\n",
    "\n",
    "plt.xlabel('Predicted')\n",
    "plt.ylabel('Actual')\n",
    "plt.show()"
   ]
  },
  {
   "cell_type": "code",
   "execution_count": 121,
   "id": "b76a5cd1",
   "metadata": {},
   "outputs": [
    {
     "data": {
      "image/png": "[encoded data removed]",
      "text/plain": [
       "<Figure size 432x288 with 1 Axes>"
      ]
     },
     "metadata": {
      "needs_background": "light"
     },
     "output_type": "display_data"
    }
   ],
   "source": [
    "import matplotlib.pyplot as plt\n",
    "from sklearn.metrics import roc_curve, auc\n",
    "\n",
    "\n",
    "predicted_probabilities = predictions \n",
    "\n",
    "true_labels = test_data.classes\n",
    "\n",
    "# Calculate ROC curve for class \"Positive\"\n",
    "fpr_positive, tpr_positive, _ = roc_curve(true_labels, predicted_probabilities[:, 1], pos_label=1)\n",
    "roc_auc_positive = auc(fpr_positive, tpr_positive)\n",
    "\n",
    "# Calculate ROC curve for class \"Negative\"\n",
    "fpr_negative, tpr_negative, _ = roc_curve(true_labels, predicted_probabilities[:, 0], pos_label=0)\n",
    "roc_auc_negative = auc(fpr_negative, tpr_negative)\n",
    "\n",
    "# Plot ROC curves\n",
    "plt.figure()\n",
    "plt.plot(fpr_positive, tpr_positive, color='darkorange', lw=2, label='ROC curve (Positive) (area = %0.2f)' % roc_auc_positive)\n",
    "plt.plot(fpr_negative, tpr_negative, color='green', lw=2, label='ROC curve (Negative) (area = %0.2f)' % roc_auc_negative)\n",
    "plt.plot([0, 1], [0, 1], color='navy', lw=2, linestyle='--')\n",
    "plt.xlim([0.0, 1.0])\n",
    "plt.ylim([0.0, 1.05])\n",
    "plt.xlabel('False Positive Rate')\n",
    "plt.ylabel('True Positive Rate')\n",
    "plt.title('ROC For CNN Binary ')\n",
    "plt.legend(loc=\"lower right\")\n",
    "plt.show()\n"
   ]
  },
  {
   "cell_type": "code",
   "execution_count": null,
   "id": "77985e8b",
   "metadata": {},
   "outputs": [],
   "source": []
  }
 ],
 "metadata": {
  "kernelspec": {
   "display_name": "Python 3 (ipykernel)",
   "language": "python",
   "name": "python3"
  },
  "language_info": {
   "codemirror_mode": {
    "name": "ipython",
    "version": 3
   },
   "file_extension": ".py",
   "mimetype": "text/x-python",
   "name": "python",
   "nbconvert_exporter": "python",
   "pygments_lexer": "ipython3",
   "version": "3.9.12"
  }
 },
 "nbformat": 4,
 "nbformat_minor": 5
}

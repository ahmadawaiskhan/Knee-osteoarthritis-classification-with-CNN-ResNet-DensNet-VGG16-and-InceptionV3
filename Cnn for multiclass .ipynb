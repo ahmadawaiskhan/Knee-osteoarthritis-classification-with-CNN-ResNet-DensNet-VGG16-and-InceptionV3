{
 "cells": [
  {
   "cell_type": "code",
   "execution_count": 3,
   "id": "ec4de7d7",
   "metadata": {},
   "outputs": [
    {
     "name": "stderr",
     "output_type": "stream",
     "text": [
      "c:\\Users\\Ahmad Awais\\anaconda3\\lib\\site-packages\\scipy\\__init__.py:146: UserWarning: A NumPy version >=1.16.5 and <1.23.0 is required for this version of SciPy (detected version 1.24.3\n",
      "  warnings.warn(f\"A NumPy version >={np_minversion} and <{np_maxversion}\"\n"
     ]
    }
   ],
   "source": [
    "import tensorflow as tf\n",
    "from tensorflow import keras\n",
    "from tensorflow.keras import layers, models\n",
    "from tensorflow.keras.layers import Dropout,Dense\n",
    "from tensorflow.keras import Sequential\n",
    "import numpy as np\n",
    "from tensorflow.keras.preprocessing.image import ImageDataGenerator\n",
    "from sklearn.preprocessing import MinMaxScaler\n",
    "from keras.models import Model\n",
    "from sklearn.decomposition import PCA\n",
    "from tensorflow.keras.optimizers import Adam\n",
    "from tensorflow.keras.models import load_model\n",
    "from tensorflow.keras.regularizers import l2\n",
    "from sklearn.metrics import classification_report\n",
    "from sklearn.metrics import confusion_matrix\n",
    "from sklearn.model_selection import train_test_split\n",
    "from sklearn import svm\n",
    "from sklearn.svm import SVC\n",
    "from tensorflow.keras.optimizers.legacy import Adam\n",
    "import matplotlib.pyplot as plt\n",
    "import seaborn as sns\n",
    "from sklearn import svm"
   ]
  },
  {
   "cell_type": "code",
   "execution_count": 4,
   "id": "8d4727d4",
   "metadata": {},
   "outputs": [],
   "source": [
    "train_data_path=\"E:/preprocessed images/Adaptive histogram dataset/adap hist(3)/preprocessed train data\"\n",
    "val_data_path=\"E:/preprocessed images/Adaptive histogram dataset/adap hist(3)/preprocessed val data\"\n",
    "test_data_path=\"E:/preprocessed images/Adaptive histogram dataset/adap hist(3)/preprocessed test data\""
   ]
  },
  {
   "cell_type": "code",
   "execution_count": 5,
   "id": "efa72ea1",
   "metadata": {},
   "outputs": [],
   "source": [
    "train_gen=ImageDataGenerator(rescale=1./255)\n",
    "val_gen=ImageDataGenerator(rescale=1./255)\n",
    "test_gen=ImageDataGenerator(rescale=1./255)"
   ]
  },
  {
   "cell_type": "code",
   "execution_count": 6,
   "id": "1ab2f11b",
   "metadata": {},
   "outputs": [
    {
     "name": "stdout",
     "output_type": "stream",
     "text": [
      "Found 2446 images belonging to 3 classes.\n",
      "Found 345 images belonging to 3 classes.\n",
      "Found 721 images belonging to 3 classes.\n"
     ]
    }
   ],
   "source": [
    "train_data=train_gen.flow_from_directory(\n",
    "                                \n",
    "                                        train_data_path,\n",
    "                                        class_mode=\"categorical\",\n",
    "                                        batch_size=32,\n",
    "                                        color_mode=\"grayscale\",\n",
    "                                        target_size=(112,112),\n",
    "                                        shuffle=True,\n",
    "                                                                        \n",
    "                                         \n",
    "                                        )\n",
    "\n",
    "val_data=val_gen.flow_from_directory(\n",
    "                                        val_data_path,\n",
    "                                        class_mode=\"categorical\",\n",
    "                                        color_mode=\"grayscale\",\n",
    "                                        batch_size=32,\n",
    "                                        target_size=(112,112),\n",
    "                                        shuffle=False\n",
    "                                        )\n",
    "\n",
    "test_data=test_gen.flow_from_directory(\n",
    "                                        test_data_path,\n",
    "                                        class_mode=\"categorical\",\n",
    "                                        batch_size=32,\n",
    "                                        color_mode=\"grayscale\",\n",
    "                                        target_size=(112,112),\n",
    "                                        shuffle=False\n",
    "                                        )"
   ]
  },
  {
   "cell_type": "code",
   "execution_count": 9,
   "id": "93ae6f18",
   "metadata": {},
   "outputs": [],
   "source": [
    "cnn_3=load_model(\"E:/saved models/finalize models for project/Model_5_classes/CNN_Model_5_classes.h5\")"
   ]
  },
  {
   "cell_type": "code",
   "execution_count": 8,
   "id": "075a24f3",
   "metadata": {},
   "outputs": [
    {
     "name": "stdout",
     "output_type": "stream",
     "text": [
      "Model: \"sequential\"\n",
      "_________________________________________________________________\n",
      " Layer (type)                Output Shape              Param #   \n",
      "=================================================================\n",
      " conv2d (Conv2D)             (None, 112, 112, 32)      320       \n",
      "                                                                 \n",
      " conv2d_1 (Conv2D)           (None, 112, 112, 32)      9248      \n",
      "                                                                 \n",
      " conv2d_2 (Conv2D)           (None, 112, 112, 32)      9248      \n",
      "                                                                 \n",
      " max_pooling2d (MaxPooling2  (None, 56, 56, 32)        0         \n",
      " D)                                                              \n",
      "                                                                 \n",
      " dropout (Dropout)           (None, 56, 56, 32)        0         \n",
      "                                                                 \n",
      " conv2d_3 (Conv2D)           (None, 56, 56, 64)        18496     \n",
      "                                                                 \n",
      " average_pooling2d (Average  (None, 28, 28, 64)        0         \n",
      " Pooling2D)                                                      \n",
      "                                                                 \n",
      " dropout_1 (Dropout)         (None, 28, 28, 64)        0         \n",
      "                                                                 \n",
      " conv2d_4 (Conv2D)           (None, 28, 28, 128)       73856     \n",
      "                                                                 \n",
      " average_pooling2d_1 (Avera  (None, 14, 14, 128)       0         \n",
      " gePooling2D)                                                    \n",
      "                                                                 \n",
      " dropout_2 (Dropout)         (None, 14, 14, 128)       0         \n",
      "                                                                 \n",
      " flatten (Flatten)           (None, 25088)             0         \n",
      "                                                                 \n",
      " dense (Dense)               (None, 200)               5017800   \n",
      "                                                                 \n",
      " dropout_3 (Dropout)         (None, 200)               0         \n",
      "                                                                 \n",
      " dense_1 (Dense)             (None, 5)                 1005      \n",
      "                                                                 \n",
      "=================================================================\n",
      "Total params: 5129973 (19.57 MB)\n",
      "Trainable params: 5129973 (19.57 MB)\n",
      "Non-trainable params: 0 (0.00 Byte)\n",
      "_________________________________________________________________\n"
     ]
    }
   ],
   "source": [
    "cnn_3.summary()"
   ]
  },
  {
   "cell_type": "code",
   "execution_count": 9,
   "id": "72d5b1d2",
   "metadata": {},
   "outputs": [],
   "source": [
    "for layer in cnn_3.layers:\n",
    "    layer.trainable = False"
   ]
  },
  {
   "cell_type": "code",
   "execution_count": 14,
   "id": "23ec84aa",
   "metadata": {},
   "outputs": [],
   "source": [
    "pretrained_output = cnn_3.layers[-2].output"
   ]
  },
  {
   "cell_type": "code",
   "execution_count": 15,
   "id": "ca7dfa59",
   "metadata": {},
   "outputs": [],
   "source": [
    "x = Dense(512, activation='relu')(pretrained_output)\n",
    "x = Dense(256, activation='relu')(x)\n",
    "\n",
    "predictions = Dense(3, activation='softmax')(x)"
   ]
  },
  {
   "cell_type": "code",
   "execution_count": 16,
   "id": "e8d41407",
   "metadata": {},
   "outputs": [],
   "source": [
    "cnn_3=Model(inputs=cnn_3.input, outputs=predictions)"
   ]
  },
  {
   "cell_type": "code",
   "execution_count": 17,
   "id": "6ec0b42c",
   "metadata": {},
   "outputs": [
    {
     "name": "stdout",
     "output_type": "stream",
     "text": [
      "Model: \"model_1\"\n",
      "_________________________________________________________________\n",
      " Layer (type)                Output Shape              Param #   \n",
      "=================================================================\n",
      " input_1 (InputLayer)        [(None, 112, 112, 1)]     0         \n",
      "                                                                 \n",
      " conv2d (Conv2D)             (None, 112, 112, 32)      320       \n",
      "                                                                 \n",
      " conv2d_1 (Conv2D)           (None, 112, 112, 32)      9248      \n",
      "                                                                 \n",
      " conv2d_2 (Conv2D)           (None, 112, 112, 32)      9248      \n",
      "                                                                 \n",
      " max_pooling2d (MaxPooling2  (None, 56, 56, 32)        0         \n",
      " D)                                                              \n",
      "                                                                 \n",
      " dropout (Dropout)           (None, 56, 56, 32)        0         \n",
      "                                                                 \n",
      " conv2d_3 (Conv2D)           (None, 56, 56, 64)        18496     \n",
      "                                                                 \n",
      " average_pooling2d (Average  (None, 28, 28, 64)        0         \n",
      " Pooling2D)                                                      \n",
      "                                                                 \n",
      " dropout_1 (Dropout)         (None, 28, 28, 64)        0         \n",
      "                                                                 \n",
      " conv2d_4 (Conv2D)           (None, 28, 28, 128)       73856     \n",
      "                                                                 \n",
      " average_pooling2d_1 (Avera  (None, 14, 14, 128)       0         \n",
      " gePooling2D)                                                    \n",
      "                                                                 \n",
      " dropout_2 (Dropout)         (None, 14, 14, 128)       0         \n",
      "                                                                 \n",
      " flatten (Flatten)           (None, 25088)             0         \n",
      "                                                                 \n",
      " dense (Dense)               (None, 200)               5017800   \n",
      "                                                                 \n",
      " dropout_3 (Dropout)         (None, 200)               0         \n",
      "                                                                 \n",
      " dense_3 (Dense)             (None, 512)               102912    \n",
      "                                                                 \n",
      " dense_4 (Dense)             (None, 256)               131328    \n",
      "                                                                 \n",
      " dense_5 (Dense)             (None, 3)                 771       \n",
      "                                                                 \n",
      "=================================================================\n",
      "Total params: 5363979 (20.46 MB)\n",
      "Trainable params: 235011 (918.01 KB)\n",
      "Non-trainable params: 5128968 (19.57 MB)\n",
      "_________________________________________________________________\n"
     ]
    }
   ],
   "source": [
    "cnn_3.summary()"
   ]
  },
  {
   "cell_type": "code",
   "execution_count": 18,
   "id": "fe84827a",
   "metadata": {},
   "outputs": [
    {
     "name": "stdout",
     "output_type": "stream",
     "text": [
      "Layer Name: input_1, Trainable: True\n",
      "Layer Name: conv2d, Trainable: False\n",
      "Layer Name: conv2d_1, Trainable: False\n",
      "Layer Name: conv2d_2, Trainable: False\n",
      "Layer Name: max_pooling2d, Trainable: False\n",
      "Layer Name: dropout, Trainable: False\n",
      "Layer Name: conv2d_3, Trainable: False\n",
      "Layer Name: average_pooling2d, Trainable: False\n",
      "Layer Name: dropout_1, Trainable: False\n",
      "Layer Name: conv2d_4, Trainable: False\n",
      "Layer Name: average_pooling2d_1, Trainable: False\n",
      "Layer Name: dropout_2, Trainable: False\n",
      "Layer Name: flatten, Trainable: False\n",
      "Layer Name: dense, Trainable: False\n",
      "Layer Name: dropout_3, Trainable: False\n",
      "Layer Name: dense_3, Trainable: True\n",
      "Layer Name: dense_4, Trainable: True\n",
      "Layer Name: dense_5, Trainable: True\n"
     ]
    }
   ],
   "source": [
    "for layer in cnn_3.layers:\n",
    "    print(f\"Layer Name: {layer.name}, Trainable: {layer.trainable}\")"
   ]
  },
  {
   "cell_type": "code",
   "execution_count": 19,
   "id": "cc21c9ce",
   "metadata": {},
   "outputs": [],
   "source": [
    "cnn_3.compile(optimizer=Adam(learning_rate=0.001, beta_1=0.9, beta_2=0.999), loss='categorical_crossentropy', metrics=['accuracy'])"
   ]
  },
  {
   "cell_type": "code",
   "execution_count": 20,
   "id": "79d15aff",
   "metadata": {},
   "outputs": [
    {
     "name": "stdout",
     "output_type": "stream",
     "text": [
      "Epoch 1/20\n",
      "77/77 [==============================] - 56s 707ms/step - loss: 0.4538 - accuracy: 0.8066 - val_loss: 0.4571 - val_accuracy: 0.8087\n",
      "Epoch 2/20\n",
      "77/77 [==============================] - 46s 596ms/step - loss: 0.3872 - accuracy: 0.8430 - val_loss: 0.4723 - val_accuracy: 0.8145\n",
      "Epoch 3/20\n",
      "77/77 [==============================] - 51s 657ms/step - loss: 0.3805 - accuracy: 0.8365 - val_loss: 0.4566 - val_accuracy: 0.8232\n",
      "Epoch 4/20\n",
      "77/77 [==============================] - 47s 613ms/step - loss: 0.3863 - accuracy: 0.8328 - val_loss: 0.4661 - val_accuracy: 0.8174\n",
      "Epoch 5/20\n",
      "77/77 [==============================] - 47s 612ms/step - loss: 0.3786 - accuracy: 0.8434 - val_loss: 0.4509 - val_accuracy: 0.8261\n",
      "Epoch 6/20\n",
      "77/77 [==============================] - 47s 607ms/step - loss: 0.3685 - accuracy: 0.8496 - val_loss: 0.4616 - val_accuracy: 0.8087\n",
      "Epoch 7/20\n",
      "77/77 [==============================] - 47s 605ms/step - loss: 0.3756 - accuracy: 0.8479 - val_loss: 0.4561 - val_accuracy: 0.8087\n",
      "Epoch 8/20\n",
      "77/77 [==============================] - 53s 686ms/step - loss: 0.3372 - accuracy: 0.8545 - val_loss: 0.4477 - val_accuracy: 0.8058\n",
      "Epoch 9/20\n",
      "77/77 [==============================] - 53s 693ms/step - loss: 0.3580 - accuracy: 0.8418 - val_loss: 0.4530 - val_accuracy: 0.8116\n",
      "Epoch 10/20\n",
      "77/77 [==============================] - 52s 678ms/step - loss: 0.3622 - accuracy: 0.8438 - val_loss: 0.4555 - val_accuracy: 0.8203\n",
      "Epoch 11/20\n",
      "77/77 [==============================] - 54s 703ms/step - loss: 0.3541 - accuracy: 0.8512 - val_loss: 0.5038 - val_accuracy: 0.7884\n",
      "Epoch 12/20\n",
      "77/77 [==============================] - 50s 644ms/step - loss: 0.3545 - accuracy: 0.8516 - val_loss: 0.4441 - val_accuracy: 0.8116\n",
      "Epoch 13/20\n",
      "77/77 [==============================] - 51s 660ms/step - loss: 0.3632 - accuracy: 0.8549 - val_loss: 0.4541 - val_accuracy: 0.8174\n",
      "Epoch 14/20\n",
      "77/77 [==============================] - 51s 664ms/step - loss: 0.3467 - accuracy: 0.8569 - val_loss: 0.4378 - val_accuracy: 0.8319\n",
      "Epoch 15/20\n",
      "77/77 [==============================] - 51s 660ms/step - loss: 0.3524 - accuracy: 0.8508 - val_loss: 0.4601 - val_accuracy: 0.8000\n",
      "Epoch 16/20\n",
      "77/77 [==============================] - 59s 764ms/step - loss: 0.3617 - accuracy: 0.8504 - val_loss: 0.4414 - val_accuracy: 0.8261\n",
      "Epoch 17/20\n",
      "77/77 [==============================] - 57s 746ms/step - loss: 0.3371 - accuracy: 0.8594 - val_loss: 0.4494 - val_accuracy: 0.8087\n",
      "Epoch 18/20\n",
      "77/77 [==============================] - 56s 730ms/step - loss: 0.3512 - accuracy: 0.8483 - val_loss: 0.4519 - val_accuracy: 0.7971\n",
      "Epoch 19/20\n",
      "77/77 [==============================] - 59s 772ms/step - loss: 0.3633 - accuracy: 0.8430 - val_loss: 0.4516 - val_accuracy: 0.8174\n",
      "Epoch 20/20\n",
      "77/77 [==============================] - 56s 724ms/step - loss: 0.3380 - accuracy: 0.8635 - val_loss: 0.4425 - val_accuracy: 0.8116\n"
     ]
    },
    {
     "data": {
      "text/plain": [
       "<keras.src.callbacks.History at 0x1d2f1c4f0a0>"
      ]
     },
     "execution_count": 20,
     "metadata": {},
     "output_type": "execute_result"
    }
   ],
   "source": [
    "cnn_3.fit(train_data, epochs=20, batch_size=32, validation_data=val_data)"
   ]
  },
  {
   "cell_type": "code",
   "execution_count": 21,
   "id": "83b6c3e1",
   "metadata": {},
   "outputs": [
    {
     "name": "stderr",
     "output_type": "stream",
     "text": [
      "E:\\Anaconda\\lib\\site-packages\\keras\\src\\engine\\training.py:3000: UserWarning: You are saving your model as an HDF5 file via `model.save()`. This file format is considered legacy. We recommend using instead the native Keras format, e.g. `model.save('my_model.keras')`.\n",
      "  saving_api.save_model(\n"
     ]
    }
   ],
   "source": [
    "cnn_3.save(\"E:/saved models/finalize models for project/Model_3_classes/cnn_3_classes.h5\")"
   ]
  },
  {
   "cell_type": "code",
   "execution_count": 7,
   "id": "60b4cdf1",
   "metadata": {},
   "outputs": [],
   "source": [
    "cnn_3=load_model(\"E:/finalize models for project/CNN/Multiclass/cnn_3_classes.h5\")"
   ]
  },
  {
   "cell_type": "code",
   "execution_count": 8,
   "id": "9f1aca21",
   "metadata": {},
   "outputs": [],
   "source": [
    "# Load your pre-trained CNN model\n",
    "CNN = cnn_3\n",
    "\n",
    "# Create a new model with the modified architecture\n",
    "feature_extractor = Model(inputs=CNN.input, outputs=CNN.layers[-2].output)"
   ]
  },
  {
   "cell_type": "code",
   "execution_count": 9,
   "id": "ce4ee1ed",
   "metadata": {},
   "outputs": [
    {
     "name": "stdout",
     "output_type": "stream",
     "text": [
      "23/23 [==============================] - 10s 417ms/step\n",
      "(None, 256)\n"
     ]
    }
   ],
   "source": [
    "test_deep_features = feature_extractor.predict(test_data)\n",
    "print(feature_extractor.output_shape)"
   ]
  },
  {
   "cell_type": "code",
   "execution_count": 10,
   "id": "9fca7aa9",
   "metadata": {},
   "outputs": [],
   "source": [
    "scaler = MinMaxScaler()\n",
    "test_normalized_features = scaler.fit_transform(test_deep_features)"
   ]
  },
  {
   "cell_type": "code",
   "execution_count": 11,
   "id": "8546f9a7",
   "metadata": {},
   "outputs": [],
   "source": [
    "N_components = 0.99  \n",
    "\n",
    "pca = PCA(n_components=N_components)\n",
    "test_reduced_features = pca.fit_transform(test_normalized_features)"
   ]
  },
  {
   "cell_type": "code",
   "execution_count": 12,
   "id": "67b59379",
   "metadata": {},
   "outputs": [],
   "source": [
    "x=test_reduced_features\n",
    "y=test_data.classes"
   ]
  },
  {
   "cell_type": "code",
   "execution_count": 13,
   "id": "50f303eb",
   "metadata": {},
   "outputs": [],
   "source": [
    "x_train,x_test,y_train,y_test=train_test_split(x,y,test_size=0.2)"
   ]
  },
  {
   "cell_type": "code",
   "execution_count": 14,
   "id": "c34cadf0",
   "metadata": {},
   "outputs": [
    {
     "name": "stdout",
     "output_type": "stream",
     "text": [
      "\n",
      " CNN MULTICLASS CLASSIFICATION REPORT\n",
      "\n",
      "              precision    recall  f1-score   support\n",
      "\n",
      "     Stage 2       0.90      0.85      0.87        91\n",
      "     Stage 3       0.64      0.82      0.72        45\n",
      "     Stage 4       0.00      0.00      0.00         9\n",
      "\n",
      "    accuracy                           0.79       145\n",
      "   macro avg       0.51      0.56      0.53       145\n",
      "weighted avg       0.76      0.79      0.77       145\n",
      "\n"
     ]
    }
   ],
   "source": [
    "# Create an SVM classifier\n",
    "svm_classifier = SVC(C=1000,gamma=0.009)\n",
    "\n",
    "\n",
    "svm_classifier.fit(x_train,y_train)\n",
    "\n",
    "y_pred = svm_classifier.predict(x_test)\n",
    "\n",
    "actual_class_labels = ['Stage 2', 'Stage 3','Stage 4']  \n",
    "\n",
    "\n",
    "report = classification_report(y_test, y_pred, target_names=actual_class_labels)\n",
    "\n",
    "\n",
    "custom_title = \"\\n CNN MULTICLASS CLASSIFICATION REPORT\\n\\n\"\n",
    "report_with_title = custom_title + report\n",
    "\n",
    "\n",
    "print(report_with_title)"
   ]
  },
  {
   "cell_type": "code",
   "execution_count": 15,
   "id": "44f46f07",
   "metadata": {},
   "outputs": [
    {
     "name": "stdout",
     "output_type": "stream",
     "text": [
      "23/23 [==============================] - 11s 462ms/step\n"
     ]
    },
    {
     "data": {
      "image/png": "[encoded data removed]",
      "text/plain": [
       "<Figure size 432x288 with 2 Axes>"
      ]
     },
     "metadata": {
      "needs_background": "light"
     },
     "output_type": "display_data"
    }
   ],
   "source": [
    "predictions = cnn_3.predict(test_data)\n",
    "\n",
    "predicted_labels = predictions.argmax(axis=1)\n",
    "\n",
    "true_labels = test_data.classes\n",
    "\n",
    "cm = confusion_matrix(true_labels, predicted_labels)\n",
    "classes = ['Stage 2', 'Stage 3','Stage 4']\n",
    "\n",
    "plt.figure()\n",
    "ax = plt.subplot()\n",
    "ax.set_title('Confusion Matrix for CNN MultiClass ')\n",
    "\n",
    "# Create a heatmap of the confusion matrix\n",
    "sns.heatmap(cm, annot=True, fmt='d', xticklabels=classes, yticklabels=classes, cmap='Reds')\n",
    "\n",
    "plt.xlabel('Predicted')\n",
    "plt.ylabel('Actual')\n",
    "plt.show()"
   ]
  },
  {
   "cell_type": "code",
   "execution_count": 16,
   "id": "b6b633c2",
   "metadata": {},
   "outputs": [
    {
     "data": {
      "image/png": "[encoded data removed]",
      "text/plain": [
       "<Figure size 432x288 with 1 Axes>"
      ]
     },
     "metadata": {
      "needs_background": "light"
     },
     "output_type": "display_data"
    }
   ],
   "source": [
    "import matplotlib.pyplot as plt\n",
    "from sklearn.metrics import roc_curve, auc\n",
    "\n",
    "predicted_probabilities = predictions  \n",
    "true_labels = test_data.classes\n",
    "\n",
    "# Calculate ROC curve for class \"stage 2\"\n",
    "fpr_stage2, tpr_stage2, _ = roc_curve(true_labels, predicted_probabilities[:, 0], pos_label=0)\n",
    "roc_auc_stage2 = auc(fpr_stage2, tpr_stage2)\n",
    "\n",
    "# Calculate ROC curve for class \"stage 3\"\n",
    "fpr_stage3, tpr_stage3, _ = roc_curve(true_labels, predicted_probabilities[:, 1], pos_label=1)\n",
    "roc_auc_stage3 = auc(fpr_stage3, tpr_stage3)\n",
    "\n",
    "# Calculate ROC curve for class \"stage 4\"\n",
    "fpr_stage4, tpr_stage4, _ = roc_curve(true_labels, predicted_probabilities[:, 2], pos_label=2)\n",
    "roc_auc_stage4 = auc(fpr_stage4, tpr_stage4)\n",
    "\n",
    "# Plot ROC curves\n",
    "plt.figure()\n",
    "plt.plot(fpr_stage2, tpr_stage2, color='darkorange', lw=2, label='ROC curve (stage 2) (area = %0.2f)' % roc_auc_stage2)\n",
    "plt.plot(fpr_stage3, tpr_stage3, color='green', lw=2, label='ROC curve (stage 3) (area = %0.2f)' % roc_auc_stage3)\n",
    "plt.plot(fpr_stage4, tpr_stage4, color='blue', lw=2, label='ROC curve (stage 4) (area = %0.2f)' % roc_auc_stage4)\n",
    "plt.plot([0, 1], [0, 1], color='navy', lw=2, linestyle='--')\n",
    "plt.xlim([0.0, 1.0])\n",
    "plt.ylim([0.0, 1.05])\n",
    "plt.xlabel('False Positive Rate')\n",
    "plt.ylabel('True Positive Rate')\n",
    "plt.title('ROC for CNN Multiclass')\n",
    "plt.legend(loc=\"lower right\")\n",
    "plt.show()"
   ]
  },
  {
   "cell_type": "code",
   "execution_count": null,
   "id": "55ebb1f1",
   "metadata": {},
   "outputs": [],
   "source": []
  }
 ],
 "metadata": {
  "kernelspec": {
   "display_name": "Python 3 (ipykernel)",
   "language": "python",
   "name": "python3"
  },
  "language_info": {
   "codemirror_mode": {
    "name": "ipython",
    "version": 3
   },
   "file_extension": ".py",
   "mimetype": "text/x-python",
   "name": "python",
   "nbconvert_exporter": "python",
   "pygments_lexer": "ipython3",
   "version": "3.9.12"
  }
 },
 "nbformat": 4,
 "nbformat_minor": 5
}
